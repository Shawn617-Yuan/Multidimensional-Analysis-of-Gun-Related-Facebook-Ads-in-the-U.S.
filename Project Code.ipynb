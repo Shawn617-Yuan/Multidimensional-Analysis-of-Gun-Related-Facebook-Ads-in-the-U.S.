{
 "cells": [
  {
   "cell_type": "code",
   "execution_count": 32,
   "id": "cda9bc51",
   "metadata": {},
   "outputs": [
    {
     "name": "stdout",
     "output_type": "stream",
     "text": [
      "23/05/18 05:23:48 WARN Client: Neither spark.yarn.jars nor spark.yarn.archive is set, falling back to uploading libraries under SPARK_HOME.\n",
      "23/05/18 05:24:30 WARN YarnSchedulerBackend$YarnSchedulerEndpoint: Attempted to request executors before the AM has registered!\n"
     ]
    },
    {
     "data": {
      "text/html": [
       "\n",
       "            <div>\n",
       "                <p><b>SparkSession - hive</b></p>\n",
       "                \n",
       "        <div>\n",
       "            <p><b>SparkContext</b></p>\n",
       "\n",
       "            <p><a href=\"http://master.data7201.emr:4040\">Spark UI</a></p>\n",
       "\n",
       "            <dl>\n",
       "              <dt>Version</dt>\n",
       "                <dd><code>v3.3.0</code></dd>\n",
       "              <dt>Master</dt>\n",
       "                <dd><code>yarn</code></dd>\n",
       "              <dt>AppName</dt>\n",
       "                <dd><code>s4692034-project</code></dd>\n",
       "            </dl>\n",
       "        </div>\n",
       "        \n",
       "            </div>\n",
       "        "
      ],
      "text/plain": [
       "<pyspark.sql.session.SparkSession at 0x7fffdbf58e10>"
      ]
     },
     "execution_count": 32,
     "metadata": {},
     "output_type": "execute_result"
    }
   ],
   "source": [
    "from pyspark.sql import SparkSession\n",
    "from pyspark.sql.functions import to_date, year, month, count, col, sum, lower, explode, date_add, date_sub\n",
    "\n",
    "spark = SparkSession.builder.appName('s4692034-project').getOrCreate()\n",
    "spark"
   ]
  },
  {
   "cell_type": "code",
   "execution_count": 13,
   "id": "faa9daf3",
   "metadata": {},
   "outputs": [
    {
     "name": "stderr",
     "output_type": "stream",
     "text": [
      "                                                                                \r"
     ]
    }
   ],
   "source": [
    "# Define a function to generate file paths for a given month\n",
    "def generate_file_paths(year, start_month, end_month):\n",
    "    file_paths = []\n",
    "    for month in range(start_month, end_month + 1):\n",
    "        file_paths.append(f'/data/ProjectDatasetFacebook/FBads-US-{year}{month}' + \"*\")\n",
    "    return file_paths\n",
    "\n",
    "# Generate file paths for the desired months\n",
    "file_paths = generate_file_paths(2021, 3, 8)\n",
    "\n",
    "# Define the columns you're interested in\n",
    "cols = [\"id\", \"ad_creative_body\", \"demographic_distribution\", \"region_distribution\", \"spend\", \"impressions\", \"funding_entity\", \"ad_delivery_start_time\"]\n",
    "\n",
    "# Read each file into a DataFrame and concatenate them into one\n",
    "dfs = [spark.read.json(path).select(*cols) for path in file_paths]\n",
    "df = dfs[0]\n",
    "for other_df in dfs[1:]:\n",
    "    df = df.union(other_df)"
   ]
  },
  {
   "cell_type": "code",
   "execution_count": null,
   "id": "1680af14",
   "metadata": {},
   "outputs": [],
   "source": [
    "path = \"/user/s4692034/projectData/df_all\"\n",
    "df.write.mode('overwrite').json(path)"
   ]
  },
  {
   "cell_type": "code",
   "execution_count": 14,
   "id": "1e4d151f",
   "metadata": {},
   "outputs": [
    {
     "name": "stderr",
     "output_type": "stream",
     "text": [
      "[Stage 22:====================================================>  (96 + 5) / 101]\r"
     ]
    },
    {
     "name": "stdout",
     "output_type": "stream",
     "text": [
      "233044\n",
      "['id', 'ad_creative_body', 'demographic_distribution', 'region_distribution', 'spend', 'impressions', 'funding_entity', 'ad_delivery_start_time', 'spend_lower_bound', 'spend_upper_bound', 'impressions_lower_bound', 'impressions_upper_bound', 'average_spend', 'average_impressions', 'Month', 'Year']\n"
     ]
    },
    {
     "name": "stderr",
     "output_type": "stream",
     "text": [
      "                                                                                \r"
     ]
    }
   ],
   "source": [
    "# Convert ad_creative_body to lowercase and add as a new column\n",
    "df = df.withColumn(\"ad_creative_body_lower\", lower(col(\"ad_creative_body\")))\n",
    "\n",
    "# Filter rows where ad_creative_body_lower contains the word 'gun'\n",
    "df_gun = df.filter(col(\"ad_creative_body_lower\").rlike(\"\\\\bgun\\\\b\"))\n",
    "\n",
    "# Remove the temporary column\n",
    "df_gun = df_gun.drop(\"ad_creative_body_lower\")\n",
    "\n",
    "# Drop missing values\n",
    "df_gun = df_gun.na.drop(subset=cols)\n",
    "\n",
    "# Remove duplicates\n",
    "df_gun = df_gun.dropDuplicates()\n",
    "\n",
    "# Extract lower_bound and upper_bound from spend and impressions\n",
    "df_gun = df_gun.withColumn(\"spend_lower_bound\", df_gun[\"spend.lower_bound\"])\\\n",
    "               .withColumn(\"spend_upper_bound\", df_gun[\"spend.upper_bound\"])\\\n",
    "               .withColumn(\"impressions_lower_bound\", df_gun[\"impressions.lower_bound\"])\\\n",
    "               .withColumn(\"impressions_upper_bound\", df_gun[\"impressions.upper_bound\"])\n",
    "\n",
    "# Calculate the average spend and impressions\n",
    "df_gun = df_gun.withColumn(\"average_spend\", (df_gun[\"spend_lower_bound\"] + df_gun[\"spend_upper_bound\"]) / 2)\n",
    "df_gun = df_gun.withColumn(\"average_impressions\", (df_gun[\"impressions_lower_bound\"] + df_gun[\"impressions_upper_bound\"]) / 2)\n",
    "\n",
    "# Convert the 'ad_delivery_start_time' to datetime\n",
    "df_gun = df_gun.withColumn(\"ad_delivery_start_time\", to_date(col(\"ad_delivery_start_time\"), \"yyyy-MM-dd\"))\n",
    "df_gun = df_gun.withColumn(\"Month\", month(col(\"ad_delivery_start_time\")))\n",
    "df_gun = df_gun.withColumn(\"Year\", year(col(\"ad_delivery_start_time\")))\n",
    "\n",
    "print(df_gun.count())\n",
    "print(df_gun.columns)\n",
    "# df_gun.show(10)"
   ]
  },
  {
   "cell_type": "code",
   "execution_count": 15,
   "id": "47e58e20",
   "metadata": {},
   "outputs": [
    {
     "name": "stderr",
     "output_type": "stream",
     "text": [
      "                                                                                \r"
     ]
    }
   ],
   "source": [
    "path = \"/user/s4692034/projectData/df_gun\"\n",
    "df_gun.write.mode('overwrite').json(path)"
   ]
  },
  {
   "cell_type": "code",
   "execution_count": 33,
   "id": "eaf2c4d7",
   "metadata": {},
   "outputs": [
    {
     "name": "stderr",
     "output_type": "stream",
     "text": [
      "[Stage 1:=======================================================>(99 + 1) / 100]\r"
     ]
    },
    {
     "name": "stdout",
     "output_type": "stream",
     "text": [
      "['Month', 'Year', 'ad_creative_body', 'ad_delivery_start_time', 'average_impressions', 'average_spend', 'demographic_distribution', 'funding_entity', 'id', 'impressions', 'impressions_lower_bound', 'impressions_upper_bound', 'region_distribution', 'spend', 'spend_lower_bound', 'spend_upper_bound']\n"
     ]
    },
    {
     "name": "stderr",
     "output_type": "stream",
     "text": [
      "                                                                                \r"
     ]
    }
   ],
   "source": [
    "path = \"/user/s4692034/projectData/df_gun\"\n",
    "df_gun = spark.read.json(path)\n",
    "print(df_gun.columns)"
   ]
  },
  {
   "cell_type": "markdown",
   "id": "fb5d32bb",
   "metadata": {},
   "source": [
    "### 查看funding entity和spend，看哪些entity花的钱和投放的数量最多"
   ]
  },
  {
   "cell_type": "code",
   "execution_count": 17,
   "id": "d9cfbe98",
   "metadata": {},
   "outputs": [
    {
     "name": "stderr",
     "output_type": "stream",
     "text": [
      "[Stage 31:======================================================>(99 + 1) / 100]\r"
     ]
    },
    {
     "name": "stdout",
     "output_type": "stream",
     "text": [
      "+--------------------+--------+-------------+\n",
      "|      funding_entity|# of Ads|  Total Spend|\n",
      "+--------------------+--------+-------------+\n",
      "|  Guard Our Freedoms|   44656|  2.9045672E7|\n",
      "|Everytown for Gun...|   21441|    2914379.5|\n",
      "|SECOND AMENDMENT ...|   19587|    2298356.5|\n",
      "|  Sandy Hook Promise|   11551|1.842313745E8|\n",
      "|     Texas LawShield|   10097|    3881551.5|\n",
      "|     Liberty Brands |    6598|     451001.0|\n",
      "|AMNESTY INTERNATI...|    5686|     350957.0|\n",
      "|HERITAGE FOUNDATI...|    5655|     703422.5|\n",
      "|     Internet Binges|    5294|    1201003.0|\n",
      "|Texas Public Poli...|    4266|    1015867.0|\n",
      "|Everytown for Gun...|    3470|     380265.0|\n",
      "|  GunAssociation.org|    3270|    6168265.0|\n",
      "|MOVEON.ORG CIVIC ...|    3248|     165476.0|\n",
      "|           Brady Pac|    3220|    1251490.0|\n",
      "|  Alvin Bragg for DA|    2905|     997297.5|\n",
      "|Lucas Kunce for M...|    2874|     283563.0|\n",
      "|Brady Campaign to...|    2752|    2065574.0|\n",
      "|                DSCC|    2528|     392836.0|\n",
      "|Gun Violence Prev...|    2442|     256279.0|\n",
      "| WARNOCK FOR GEORGIA|    2394|    6892253.0|\n",
      "+--------------------+--------+-------------+\n",
      "only showing top 20 rows\n",
      "\n"
     ]
    },
    {
     "name": "stderr",
     "output_type": "stream",
     "text": [
      "                                                                                \r"
     ]
    }
   ],
   "source": [
    "# Group by funding entity\n",
    "df_funding = df_gun.groupBy(\"funding_entity\")\\\n",
    "                   .agg(count(\"id\").alias(\"# of Ads\"),\n",
    "                        sum(\"average_spend\").alias(\"Total Spend\"))\n",
    "\n",
    "# Order by number of ads and total spend\n",
    "df_funding = df_funding.orderBy([\"# of Ads\", \"Total Spend\"], ascending=False)\n",
    "\n",
    "df_funding.show()"
   ]
  },
  {
   "cell_type": "code",
   "execution_count": 7,
   "id": "9cd7835c",
   "metadata": {},
   "outputs": [
    {
     "name": "stderr",
     "output_type": "stream",
     "text": [
      "                                                                                \r"
     ]
    }
   ],
   "source": [
    "path = \"/user/s4692034/projectData/df_funding\"\n",
    "df_funding.write.mode('overwrite').json(path)\n",
    "df_funding.coalesce(1).write.mode('overwrite').csv(\"/user/s4692034/project/funding_entity\", header=True)"
   ]
  },
  {
   "cell_type": "markdown",
   "id": "848ac8e2",
   "metadata": {},
   "source": [
    "### 引入GVA和LGS数据集"
   ]
  },
  {
   "cell_type": "code",
   "execution_count": 18,
   "id": "c8b2a830",
   "metadata": {},
   "outputs": [
    {
     "name": "stderr",
     "output_type": "stream",
     "text": [
      "                                                                                \r"
     ]
    },
    {
     "name": "stdout",
     "output_type": "stream",
     "text": [
      "+-----+----+-----------------------+\n",
      "|Month|Year|# of Violence Incidents|\n",
      "+-----+----+-----------------------+\n",
      "|    3|2021|                   4522|\n",
      "|    4|2021|                   4995|\n",
      "|    5|2021|                   5859|\n",
      "|    6|2021|                   5383|\n",
      "|    7|2021|                   5421|\n",
      "|    8|2021|                   4768|\n",
      "+-----+----+-----------------------+\n",
      "\n",
      "+-----+----+---------------------------+\n",
      "|Month|Year|# of Legislation Introduced|\n",
      "+-----+----+---------------------------+\n",
      "|    3|2021|                         26|\n",
      "|    4|2021|                          5|\n",
      "|    5|2021|                         15|\n",
      "|    6|2021|                          4|\n",
      "|    7|2021|                          2|\n",
      "|    8|2021|                          1|\n",
      "+-----+----+---------------------------+\n",
      "\n"
     ]
    }
   ],
   "source": [
    "# Load Gun Violence data\n",
    "df_violence = spark.read.csv('/user/s4692034/external-dataset/GVA_2021.3.1-8.31.csv', header=True)\n",
    "\n",
    "# Convert the 'Incident Date' to datetime\n",
    "df_violence = df_violence.withColumn('Incident Date', to_date(col(\"Incident Date\"), \"d-MMM-yy\"))\n",
    "\n",
    "# Group by month and count the number of incidents\n",
    "df_violence = df_violence.withColumn(\"Month\", month(col(\"Incident Date\")))\n",
    "df_violence = df_violence.withColumn(\"Year\", year(col(\"Incident Date\")))\n",
    "df_violence_grouped = df_violence.groupBy(\"Month\", \"Year\").agg(count(\"Incident ID\").alias(\"# of Violence Incidents\")).sort(\"Month\", \"Year\")\n",
    "df_violence_grouped = df_violence_grouped.filter(col(\"Year\") == 2021)\n",
    "\n",
    "df_violence_grouped.show()\n",
    "\n",
    "# Load Legislation data\n",
    "df_legislation = spark.read.csv('/user/s4692034/external-dataset/LGIS_2021.3.1-8.31.csv', header=True)\n",
    "\n",
    "# Convert the 'Introduced Date' to datetime\n",
    "df_legislation = df_legislation.withColumn(\"Introduced Date\", to_date(col(\"Introduced Date\"), \"MM/dd/yyyy\"))\n",
    "\n",
    "# Group by month and count the number of bills\n",
    "df_legislation = df_legislation.withColumn(\"Month\", month(col(\"Introduced Date\")))\n",
    "df_legislation = df_legislation.withColumn(\"Year\", year(col(\"Introduced Date\")))\n",
    "df_legislation_grouped = df_legislation.groupBy(\"Month\", \"Year\").agg(count(\"Name\").alias(\"# of Legislation Introduced\")).sort(\"Month\", \"Year\")\n",
    "df_legislation_grouped = df_legislation_grouped.filter(col(\"Year\") == 2021)\n",
    "\n",
    "df_legislation_grouped.show()"
   ]
  },
  {
   "cell_type": "code",
   "execution_count": 19,
   "id": "71117aab",
   "metadata": {},
   "outputs": [
    {
     "name": "stderr",
     "output_type": "stream",
     "text": [
      "                                                                                \r"
     ]
    }
   ],
   "source": [
    "path = \"/user/s4692034/projectData/df_violence\"\n",
    "df_violence.write.mode('overwrite').json(path)\n",
    "\n",
    "path = \"/user/s4692034/projectData/df_legislation\"\n",
    "df_legislation.write.mode('overwrite').json(path)"
   ]
  },
  {
   "cell_type": "code",
   "execution_count": 34,
   "id": "ec415cdb",
   "metadata": {},
   "outputs": [
    {
     "name": "stderr",
     "output_type": "stream",
     "text": [
      "                                                                                \r"
     ]
    }
   ],
   "source": [
    "path = \"/user/s4692034/projectData/df_violence\"\n",
    "df_violence = spark.read.json(path)\n",
    "\n",
    "path = \"/user/s4692034/projectData/df_legislation\"\n",
    "df_legislation = spark.read.json(path)"
   ]
  },
  {
   "cell_type": "markdown",
   "id": "bec3675d",
   "metadata": {},
   "source": [
    "### 每月的广告数量变化"
   ]
  },
  {
   "cell_type": "code",
   "execution_count": 20,
   "id": "733873f6",
   "metadata": {},
   "outputs": [
    {
     "name": "stderr",
     "output_type": "stream",
     "text": [
      "[Stage 54:>                                                         (0 + 1) / 1]\r"
     ]
    },
    {
     "name": "stdout",
     "output_type": "stream",
     "text": [
      "+-----+----+--------+--------------+-----------------+-----------------------+---------------------------+\n",
      "|Month|Year|# of Ads|Total Ad Spend|Total Impressions|# of Violence Incidents|# of Legislation Introduced|\n",
      "+-----+----+--------+--------------+-----------------+-----------------------+---------------------------+\n",
      "|    3|2021|   40474|  1.94445413E8|   2.2641685255E9|                   4522|                         26|\n",
      "|    4|2021|   81344|   4.1443728E7|   2.8340985075E9|                   4995|                          5|\n",
      "|    5|2021|   33062|     5784569.0|     3.98469977E8|                   5859|                         15|\n",
      "|    6|2021|   26599|     9533300.5|      6.1233326E8|                   5383|                          4|\n",
      "|    7|2021|   31258|     5158921.0|     4.17557375E8|                   5421|                          2|\n",
      "|    8|2021|   17032|     2249584.0|    1.535784955E8|                   4768|                          1|\n",
      "+-----+----+--------+--------------+-----------------+-----------------------+---------------------------+\n",
      "\n"
     ]
    },
    {
     "name": "stderr",
     "output_type": "stream",
     "text": [
      "                                                                                \r"
     ]
    }
   ],
   "source": [
    "df_gun_grouped = df_gun.groupBy(\"Month\", \"Year\").agg(sum(\"average_spend\").alias(\"Total Ad Spend\"), sum(\"average_impressions\").alias(\"Total Impressions\"), count(\"*\").alias(\"# of Ads\")).filter(\"Year == 2021\")\n",
    "\n",
    "# Join on 'Month'\n",
    "df_pattern = df_gun_grouped.join(df_violence_grouped, on=[\"Month\", \"Year\"], how=\"outer\")\n",
    "df_pattern = df_pattern.join(df_legislation_grouped, on=[\"Month\", \"Year\"], how=\"outer\")\n",
    "df_pattern = df_pattern.select(\"Month\", \"Year\", \"# of Ads\", \"Total Ad Spend\", \"Total Impressions\", \n",
    "                                 \"# of Violence Incidents\", \"# of Legislation Introduced\")\n",
    "\n",
    "df_pattern.show()"
   ]
  },
  {
   "cell_type": "code",
   "execution_count": 21,
   "id": "ca5ca1ef",
   "metadata": {},
   "outputs": [
    {
     "name": "stderr",
     "output_type": "stream",
     "text": [
      "                                                                                \r"
     ]
    }
   ],
   "source": [
    "path = \"/user/s4692034/projectData/df_pattern\"\n",
    "df_pattern.write.mode('overwrite').json(path)\n",
    "df_pattern.coalesce(1).write.mode('overwrite').csv(\"/user/s4692034/project/pattern_analysis\", header=True)"
   ]
  },
  {
   "cell_type": "markdown",
   "id": "ededba19",
   "metadata": {},
   "source": [
    "### 投放的(age, gender)和impression之间的关系"
   ]
  },
  {
   "cell_type": "code",
   "execution_count": 22,
   "id": "f1c030a8",
   "metadata": {},
   "outputs": [
    {
     "name": "stderr",
     "output_type": "stream",
     "text": [
      "[Stage 98:===================================================>      (8 + 1) / 9]\r"
     ]
    },
    {
     "name": "stdout",
     "output_type": "stream",
     "text": [
      "+-------+-------+---------------------------+\n",
      "|    age| gender|total_estimated_impressions|\n",
      "+-------+-------+---------------------------+\n",
      "|    65+|   male|       1.1743467653975523E9|\n",
      "|    65+| female|       1.1014052001931577E9|\n",
      "|  55-64|   male|        1.048033982143912E9|\n",
      "|  45-54|   male|        7.889122136225573E8|\n",
      "|  55-64| female|        7.453032969893608E8|\n",
      "|  35-44|   male|        5.731779548089759E8|\n",
      "|  45-54| female|       4.8938217493150616E8|\n",
      "|  35-44| female|        4.075334868437011E8|\n",
      "|  25-34|   male|        3.878765779307559E8|\n",
      "|  25-34| female|       1.4199471842457575E8|\n",
      "|  18-24|   male|        9.236846765027463E7|\n",
      "|  18-24| female|        4.059424929850851E7|\n",
      "|    65+|unknown|          1.9189201260421E7|\n",
      "|  55-64|unknown|        1.406223875513303E7|\n",
      "|  35-44|unknown|       1.0857198924901515E7|\n",
      "|  45-54|unknown|       1.0574167603141513E7|\n",
      "|  25-34|unknown|          4154485.140845998|\n",
      "|  13-17| female|         1001823.3727760001|\n",
      "|  18-24|unknown|          983205.2837370005|\n",
      "|Unknown|unknown|             300975.1562535|\n",
      "+-------+-------+---------------------------+\n",
      "only showing top 20 rows\n",
      "\n"
     ]
    },
    {
     "name": "stderr",
     "output_type": "stream",
     "text": [
      "                                                                                \r"
     ]
    }
   ],
   "source": [
    "# Explode the demographic_distribution array\n",
    "df_demographics = df_gun.select(\"id\", \"average_impressions\", explode(\"demographic_distribution\").alias(\"demographics\"))\n",
    "\n",
    "# Select useful columns and calculate the estimated impressions for each demographic group\n",
    "df_demographics = df_demographics.select(\n",
    "    \"id\",\n",
    "    col(\"demographics.age\").alias(\"age\"),\n",
    "    col(\"demographics.gender\").alias(\"gender\"),\n",
    "    col(\"demographics.percentage\").alias(\"percentage\"),\n",
    "    (col(\"average_impressions\") * col(\"demographics.percentage\")).alias(\"estimated_impressions\"),\n",
    ")\n",
    "\n",
    "# Group by age_group and gender and sum the estimated impressions\n",
    "df_demographics_grouped = df_demographics.groupBy(\"age\", \"gender\").agg(sum(\"estimated_impressions\").alias(\"total_estimated_impressions\")).sort(\"total_estimated_impressions\", ascending=False)\n",
    "\n",
    "df_demographics_grouped.show()"
   ]
  },
  {
   "cell_type": "code",
   "execution_count": 23,
   "id": "f9f4f69a",
   "metadata": {},
   "outputs": [
    {
     "name": "stderr",
     "output_type": "stream",
     "text": [
      "                                                                                \r"
     ]
    }
   ],
   "source": [
    "path = \"/user/s4692034/projectData/df_demographics\"\n",
    "df_demographics.write.mode('overwrite').json(path)\n",
    "df_demographics_grouped.coalesce(1).write.mode('overwrite').csv(\"/user/s4692034/project/demographics\", header=True)"
   ]
  },
  {
   "cell_type": "markdown",
   "id": "14bda3dd",
   "metadata": {},
   "source": [
    "### 不同region枪击案数量和spend以及impression之间的关系"
   ]
  },
  {
   "cell_type": "code",
   "execution_count": 35,
   "id": "c2ad62b5",
   "metadata": {},
   "outputs": [
    {
     "name": "stderr",
     "output_type": "stream",
     "text": [
      "[Stage 9:>                                                          (0 + 1) / 1]\r"
     ]
    },
    {
     "name": "stdout",
     "output_type": "stream",
     "text": [
      "+-------------+---------------------+---------------------------+-------------+---------------+\n",
      "|       region|total_estimated_spend|total_estimated_impressions|Total Victims|Total Incidents|\n",
      "+-------------+---------------------+---------------------------+-------------+---------------+\n",
      "|         Utah|   1861063.2352315024|         3.99431801636824E7|        108.0|            136|\n",
      "|       Hawaii|    871732.1032114992|       1.2432196615111511E7|         28.0|             43|\n",
      "|    Minnesota|    5415362.082349495|        8.750821717799345E7|        502.0|            532|\n",
      "|         Ohio|    8467240.674211973|       2.2684867973473936E8|       1404.0|           1331|\n",
      "|       Oregon|    6157665.196865985|        1.807008319865407E8|        207.0|            235|\n",
      "|     Arkansas|   1368978.8406545008|        4.042360395457002E7|        289.0|            305|\n",
      "|        Texas| 1.4775643630750516E7|        4.651407167241722E8|       2284.0|           2328|\n",
      "| North Dakota|    736318.9665129997|       4.1762557387067005E7|         19.0|             29|\n",
      "| Pennsylvania|  1.249259082682403E7|       4.6897081639562845E8|       1758.0|           1561|\n",
      "|  Connecticut|    4328213.377479992|        5.417528216186093E7|        335.0|            396|\n",
      "|      Vermont|   1138384.4747579996|       1.7723041711940013E7|         11.0|             21|\n",
      "|     Nebraska|   2149736.8015004974|       1.1737230968632719E8|        127.0|            208|\n",
      "|       Nevada|    1460527.003474497|       3.1012822037838943E7|        183.0|            214|\n",
      "|   Washington|    8998860.162905486|       2.3076752825929588E8|        267.0|            282|\n",
      "|     Illinois|    9943669.791560994|       1.9253875447652233E8|       3129.0|           2763|\n",
      "|     Oklahoma|   1838153.5334790007|        4.906481832701244E7|        311.0|            369|\n",
      "|     Delaware|    867703.6880109985|       1.4860609207856001E7|        166.0|            167|\n",
      "|       Alaska|    632013.0014634989|        1.819002163060349E7|         37.0|             51|\n",
      "|   New Mexico|   1342975.1129590007|       2.6726869066785414E7|        182.0|            268|\n",
      "|West Virginia|   1297600.7742515013|        6.312262628840841E7|         99.0|            147|\n",
      "+-------------+---------------------+---------------------------+-------------+---------------+\n",
      "only showing top 20 rows\n",
      "\n"
     ]
    },
    {
     "name": "stderr",
     "output_type": "stream",
     "text": [
      "                                                                                \r"
     ]
    }
   ],
   "source": [
    "# Explode the region_distribution array\n",
    "df_region = df_gun.select(\"id\", \"average_spend\", \"average_impressions\", explode(\"region_distribution\").alias(\"regions\"))\n",
    "\n",
    "# Select useful columns and calculate the estimated spend and impressions for each region\n",
    "df_region = df_region.select(\n",
    "    \"id\",\n",
    "    col(\"regions.region\").alias(\"region\"),\n",
    "    col(\"regions.percentage\").alias(\"percentage\"),\n",
    "    (col(\"average_spend\") * col(\"regions.percentage\")).alias(\"estimated_spend\"),\n",
    "    (col(\"average_impressions\") * col(\"regions.percentage\")).alias(\"estimated_impressions\"),\n",
    ")\n",
    "df_region = df_region.filter(col('region') != 'Unknown')\n",
    "\n",
    "# Group by region and sum the estimated spend and impressions\n",
    "df_region_grouped = df_region.groupBy(\"region\").agg(\n",
    "    sum(\"estimated_spend\").alias(\"total_estimated_spend\"),\n",
    "    sum(\"estimated_impressions\").alias(\"total_estimated_impressions\")\n",
    ")\n",
    "\n",
    "# Group the already loaded Gun Violence data by State and count the number of incidents and victims\n",
    "df_violence_state = df_violence.groupBy(\"State\").agg(\n",
    "    count(\"Incident ID\").alias(\"# of Violence Incidents\"),\n",
    "    sum(\"# Victims Injured\").alias(\"Total Victims Injured\"),\n",
    "    sum(\"# Victims Killed\").alias(\"Total Victims Killed\")\n",
    ")\n",
    "\n",
    "# Add Total Victims Injured and Total Victims Killed into one column named \"Total Victims\"\n",
    "df_violence_state = df_violence_state.withColumn(\"Total Victims\", col(\"Total Victims Injured\") + col(\"Total Victims Killed\")).withColumnRenamed(\"# of Violence Incidents\", \"Total Incidents\")\n",
    "\n",
    "# Drop the original columns\n",
    "df_violence_state = df_violence_state.drop(\"Total Victims Injured\", \"Total Victims Killed\")\n",
    "\n",
    "# Join the ad data and violence data on region/state\n",
    "df_regional_analysis = df_region_grouped.join(df_violence_state, df_region_grouped.region == df_violence_state.State, how=\"inner\")\n",
    "df_regional_analysis = df_regional_analysis.select(\"region\", \"total_estimated_spend\", \"total_estimated_impressions\", \"Total Victims\", \"Total Incidents\")\n",
    "\n",
    "df_regional_analysis.show()"
   ]
  },
  {
   "cell_type": "code",
   "execution_count": 37,
   "id": "e417d7cf",
   "metadata": {},
   "outputs": [
    {
     "name": "stderr",
     "output_type": "stream",
     "text": [
      "[Stage 33:>                                                         (0 + 1) / 1]\r"
     ]
    },
    {
     "name": "stdout",
     "output_type": "stream",
     "text": [
      "Correlation between ad spend and gun violence incident:  0.7400096261351077\n",
      "Correlation between ad impressions and gun violence incident:  0.7068419982504235\n"
     ]
    },
    {
     "name": "stderr",
     "output_type": "stream",
     "text": [
      "                                                                                \r"
     ]
    }
   ],
   "source": [
    "# Calculate the correlation between ad spend and gun violence\n",
    "spend_correlation = df_regional_analysis.stat.corr(\"total_estimated_spend\", \"Total Incidents\")\n",
    "impression_correlation = df_regional_analysis.stat.corr(\"total_estimated_impressions\", \"Total Incidents\")\n",
    "\n",
    "print(\"Correlation between ad spend and gun violence incident: \", spend_correlation)\n",
    "print(\"Correlation between ad impressions and gun violence incident: \", impression_correlation)"
   ]
  },
  {
   "cell_type": "code",
   "execution_count": 38,
   "id": "1f6ca7ad",
   "metadata": {},
   "outputs": [
    {
     "name": "stderr",
     "output_type": "stream",
     "text": [
      "                                                                                \r"
     ]
    }
   ],
   "source": [
    "path = \"/user/s4692034/projectData/df_region\"\n",
    "df_region.write.mode('overwrite').json(path)\n",
    "df_regional_analysis.coalesce(1).write.mode('overwrite').csv(\"/user/s4692034/project/regional\", header=True)"
   ]
  },
  {
   "cell_type": "markdown",
   "id": "1e57b18b",
   "metadata": {},
   "source": [
    "### Ads spend efficiency"
   ]
  },
  {
   "cell_type": "code",
   "execution_count": 41,
   "id": "5b6e79bf",
   "metadata": {},
   "outputs": [
    {
     "name": "stderr",
     "output_type": "stream",
     "text": [
      "                                                                                \r"
     ]
    },
    {
     "name": "stdout",
     "output_type": "stream",
     "text": [
      "+-----------------+---------------------------+\n",
      "|           region|average_cost_per_impression|\n",
      "+-----------------+---------------------------+\n",
      "|           Yangon|                       null|\n",
      "|          Wyoming|       0.012783641402250927|\n",
      "|             Iowa|       0.015126975091407561|\n",
      "|     South Dakota|       0.016640458918345705|\n",
      "|     North Dakota|       0.017631079430519322|\n",
      "|            Lares|       0.017802436571237958|\n",
      "|         Nebraska|       0.018315536324074934|\n",
      "|        Tennessee|       0.019064071630511773|\n",
      "|            Magwe|       0.019543831370835422|\n",
      "|        Louisiana|        0.02022664243961013|\n",
      "|            Idaho|       0.020534694862430973|\n",
      "|          Montana|       0.020552709895890718|\n",
      "|    West Virginia|        0.02055682487485137|\n",
      "|      Mississippi|       0.020767957272832503|\n",
      "|         Missouri|       0.020960213165913948|\n",
      "|        Chihuahua|       0.021164304325576373|\n",
      "|          Guánica|         0.0213327837742225|\n",
      "|          Indiana|       0.021768882720753724|\n",
      "|US Virgin Islands|       0.021849741142215873|\n",
      "|          Naguabo|         0.0218987019483757|\n",
      "+-----------------+---------------------------+\n",
      "only showing top 20 rows\n",
      "\n"
     ]
    },
    {
     "name": "stderr",
     "output_type": "stream",
     "text": [
      "                                                                                \r"
     ]
    },
    {
     "data": {
      "text/plain": [
       "134"
      ]
     },
     "execution_count": 41,
     "metadata": {},
     "output_type": "execute_result"
    }
   ],
   "source": [
    "# Add a new column for cost per impression (average_spend / average_impressions)\n",
    "df_efficiency = df_gun.withColumn(\"cost_per_impression\", col(\"average_spend\") / col(\"average_impressions\"))\n",
    "\n",
    "# Explode the region_distribution array into separate rows\n",
    "df_efficiency = df_efficiency.select(\"*\", explode(\"region_distribution\").alias(\"region_info\"))\n",
    "\n",
    "# Add a column for the region\n",
    "df_efficiency = df_efficiency.withColumn(\"region\", df_efficiency[\"region_info.region\"])\n",
    "\n",
    "# Add a column for the impressions by region (percentage * total impressions)\n",
    "df_efficiency = df_efficiency.withColumn(\"impressions_by_region\", df_efficiency[\"region_info.percentage\"] * df_efficiency[\"average_impressions\"])\n",
    "\n",
    "# Add a column for the spend by region (percentage * total spend)\n",
    "df_efficiency = df_efficiency.withColumn(\"spend_by_region\", df_efficiency[\"region_info.percentage\"] * df_efficiency[\"average_spend\"])\n",
    "\n",
    "# Group by region and calculate average cost per impression (total spend by region / total impressions by region)\n",
    "df_efficiency = df_efficiency.groupBy(\"region\").agg(\n",
    "    (sum(\"spend_by_region\") / sum(\"impressions_by_region\")).alias(\"average_cost_per_impression\")\n",
    ")\n",
    "\n",
    "# Order by average cost per impression\n",
    "df_efficiency = df_efficiency.orderBy(\"average_cost_per_impression\", ascending=False)\n",
    "\n",
    "df_efficiency.show()\n",
    "df_efficiency.count()"
   ]
  },
  {
   "cell_type": "code",
   "execution_count": 47,
   "id": "aa3b3e40",
   "metadata": {
    "scrolled": false
   },
   "outputs": [
    {
     "name": "stderr",
     "output_type": "stream",
     "text": [
      "                                                                                \r"
     ]
    },
    {
     "name": "stdout",
     "output_type": "stream",
     "text": [
      "+-------------+---------------------------+\n",
      "|       region|average_cost_per_impression|\n",
      "+-------------+---------------------------+\n",
      "|      Wyoming|       0.012783641402250925|\n",
      "|         Iowa|        0.01512697509140756|\n",
      "| South Dakota|       0.016640458918345702|\n",
      "| North Dakota|        0.01763107943051932|\n",
      "|     Nebraska|        0.01831553632407493|\n",
      "|    Tennessee|       0.019064071630511773|\n",
      "|    Louisiana|        0.02022664243961013|\n",
      "|        Idaho|       0.020534694862430966|\n",
      "|      Montana|        0.02055270989589071|\n",
      "|West Virginia|        0.02055682487485137|\n",
      "|  Mississippi|         0.0207679572728325|\n",
      "|     Missouri|       0.020960213165913955|\n",
      "|      Indiana|       0.021768882720753724|\n",
      "|      Alabama|        0.02316334956823037|\n",
      "|       Kansas|       0.025361963873076064|\n",
      "|        Maine|        0.02574616227526578|\n",
      "| Pennsylvania|       0.026638311788435794|\n",
      "|        Texas|        0.03176596479192436|\n",
      "|     Arkansas|         0.0338658285439622|\n",
      "|       Oregon|        0.03407657357839189|\n",
      "+-------------+---------------------------+\n",
      "only showing top 20 rows\n",
      "\n"
     ]
    },
    {
     "name": "stderr",
     "output_type": "stream",
     "text": [
      "                                                                                \r"
     ]
    },
    {
     "data": {
      "text/plain": [
       "50"
      ]
     },
     "execution_count": 47,
     "metadata": {},
     "output_type": "execute_result"
    }
   ],
   "source": [
    "# Define a list of valid US states\n",
    "us_states = [\"Alabama\",\"Alaska\",\"Arizona\",\"Arkansas\",\"California\",\"Colorado\",\n",
    "  \"Connecticut\",\"Delaware\",\"Florida\",\"Georgia\",\"Hawaii\",\"Idaho\",\"Illinois\",\n",
    "  \"Indiana\",\"Iowa\",\"Kansas\",\"Kentucky\",\"Louisiana\",\"Maine\",\"Maryland\",\n",
    "  \"Massachusetts\",\"Michigan\",\"Minnesota\",\"Mississippi\",\"Missouri\",\"Montana\",\n",
    "  \"Nebraska\",\"Nevada\",\"New Hampshire\",\"New Jersey\",\"New Mexico\",\"New York\",\n",
    "  \"North Carolina\",\"North Dakota\",\"Ohio\",\"Oklahoma\",\"Oregon\",\"Pennsylvania\",\n",
    "  \"Rhode Island\",\"South Carolina\",\"South Dakota\",\"Tennessee\",\"Texas\",\"Utah\",\n",
    "  \"Vermont\",\"Virginia\",\"Washington\",\"West Virginia\",\"Wisconsin\",\"Wyoming\"]\n",
    "\n",
    "# Filter df_efficiency to include only the valid US states\n",
    "df_efficiency = df_efficiency.filter(df_efficiency.region.isin(us_states))\n",
    "\n",
    "df_efficiency.show()\n",
    "df_efficiency.count()"
   ]
  },
  {
   "cell_type": "code",
   "execution_count": 48,
   "id": "c2a8b0b8",
   "metadata": {},
   "outputs": [
    {
     "name": "stderr",
     "output_type": "stream",
     "text": [
      "                                                                                \r"
     ]
    }
   ],
   "source": [
    "path = \"/user/s4692034/projectData/df_efficiency\"\n",
    "df_efficiency.write.mode('overwrite').json(path)\n",
    "df_efficiency.coalesce(1).write.mode('overwrite').csv(\"/user/s4692034/project/efficiency\", header=True)"
   ]
  },
  {
   "cell_type": "markdown",
   "id": "ec4caee6",
   "metadata": {},
   "source": [
    "### 法案颁布的前后，广告数量的变化"
   ]
  },
  {
   "cell_type": "code",
   "execution_count": 29,
   "id": "20053fa2",
   "metadata": {},
   "outputs": [
    {
     "name": "stderr",
     "output_type": "stream",
     "text": [
      "[Stage 155:==================================================>      (8 + 1) / 9]\r"
     ]
    },
    {
     "name": "stdout",
     "output_type": "stream",
     "text": [
      "+---------+-------------+-------------+-----------------+\n",
      "|     Name|Number of Ads|  Total Spend|Total Impressions|\n",
      "+---------+-------------+-------------+-----------------+\n",
      "|   S.1155|        52566|  3.0673167E7|    2.227229855E9|\n",
      "|   S.1101|        51308|  3.0553496E7|   2.1764275065E9|\n",
      "|H.Res.275|        14301| 4.22759495E7|    5.046142505E8|\n",
      "|S.Res.140|        14001| 4.25398995E7|    5.167314005E8|\n",
      "|    S.974|        14001| 4.25398995E7|    5.167314005E8|\n",
      "|    S.591|        12383|1.461588085E8|    1.270081148E9|\n",
      "| H.R.1576|        12204| 1.46088948E8|   1.2461762375E9|\n",
      "| H.R.1534|        12204| 1.46088948E8|   1.2461762375E9|\n",
      "| H.R.1560|        12204| 1.46088948E8|   1.2461762375E9|\n",
      "|    S.529|        11882| 1.46033009E8|   1.2374053985E9|\n",
      "|    S.527|        11882| 1.46033009E8|   1.2374053985E9|\n",
      "| H.R.1494|        11882| 1.46033009E8|   1.2374053985E9|\n",
      "|    S.525|        11882| 1.46033009E8|   1.2374053985E9|\n",
      "|   S.1775|        11417|     959541.5|     4.80552915E7|\n",
      "| H.R.3432|        11417|     959541.5|     4.80552915E7|\n",
      "|   S.1373|        10644|    3269578.0|    1.660381825E8|\n",
      "| H.R.1604|        10566|  1.4790717E7|    4.447872835E8|\n",
      "|   S.1338|         9692|    1298954.0|     9.57751545E7|\n",
      "|S.Res.199|         9669|    3309515.5|    1.674121695E8|\n",
      "| H.R.1454|         8201|1.326250995E8|    9.240851725E8|\n",
      "+---------+-------------+-------------+-----------------+\n",
      "only showing top 20 rows\n",
      "\n"
     ]
    },
    {
     "name": "stderr",
     "output_type": "stream",
     "text": [
      "                                                                                \r"
     ]
    }
   ],
   "source": [
    "# Adding columns with the dates for three days before and after the introduced date\n",
    "df_legislation = df_legislation.withColumn(\"Start Window\", date_sub(col(\"Introduced Date\"), 3))\n",
    "df_legislation = df_legislation.withColumn(\"End Window\", date_add(col(\"Introduced Date\"), 3))\n",
    "\n",
    "# Joining df_gun and df_legislation on the condition that the ad_delivery_start_time falls within the start and end window\n",
    "df_join = df_gun.join(df_legislation, \n",
    "                      (df_gun[\"ad_delivery_start_time\"] >= df_legislation[\"Start Window\"]) & \n",
    "                      (df_gun[\"ad_delivery_start_time\"] <= df_legislation[\"End Window\"]))\n",
    "\n",
    "# Group by Name of the legislation and aggregate on the necessary columns\n",
    "df_legislation_period = df_join.groupBy(df_legislation[\"Name\"]).agg(\n",
    "                    count(df_gun[\"id\"]).alias(\"Number of Ads\"),\n",
    "                    sum(df_gun[\"average_spend\"]).alias(\"Total Spend\"),\n",
    "                    sum(df_gun[\"average_impressions\"]).alias(\"Total Impressions\")).sort(\"Number of Ads\", ascending=False)\n",
    "\n",
    "df_legislation_period.show()"
   ]
  },
  {
   "cell_type": "code",
   "execution_count": 30,
   "id": "08f5e7bc",
   "metadata": {},
   "outputs": [
    {
     "name": "stderr",
     "output_type": "stream",
     "text": [
      "                                                                                \r"
     ]
    }
   ],
   "source": [
    "path = \"/user/s4692034/projectData/df_legislation_period\"\n",
    "df_legislation_period.write.mode('overwrite').json(path)\n",
    "df_legislation_period.coalesce(1).write.mode('overwrite').csv(\"/user/s4692034/project/legislation_period\", header=True)"
   ]
  },
  {
   "cell_type": "code",
   "execution_count": 31,
   "id": "a87001df",
   "metadata": {},
   "outputs": [],
   "source": [
    "spark.stop()"
   ]
  },
  {
   "cell_type": "code",
   "execution_count": null,
   "id": "11ee00e1",
   "metadata": {},
   "outputs": [],
   "source": []
  }
 ],
 "metadata": {
  "kernelspec": {
   "display_name": "PySpark",
   "language": "python",
   "name": "pyspark"
  },
  "language_info": {
   "codemirror_mode": {
    "name": "ipython",
    "version": 3
   },
   "file_extension": ".py",
   "mimetype": "text/x-python",
   "name": "python",
   "nbconvert_exporter": "python",
   "pygments_lexer": "ipython3",
   "version": "3.7.16"
  }
 },
 "nbformat": 4,
 "nbformat_minor": 5
}
